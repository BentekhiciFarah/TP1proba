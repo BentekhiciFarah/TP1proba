{
 "cells": [
  {
   "cell_type": "markdown",
   "id": "cb465409",
   "metadata": {},
   "source": [
    "# Exercice 6 methode brute force\n",
    "\n",
    "### Résolution QST 06 du TP1\n"
   ]
  },
  {
   "cell_type": "code",
   "id": "12156911",
   "metadata": {
    "ExecuteTime": {
     "end_time": "2025-09-07T10:46:45.125774Z",
     "start_time": "2025-09-07T10:46:45.123148Z"
    }
   },
   "source": [
    "import itertools\n",
    "\n",
    "\n",
    "import pandas as pd\n"
   ],
   "outputs": [],
   "execution_count": 25
  },
  {
   "cell_type": "code",
   "id": "7144dd9c",
   "metadata": {
    "ExecuteTime": {
     "end_time": "2025-09-07T10:46:45.141827Z",
     "start_time": "2025-09-07T10:46:45.138855Z"
    }
   },
   "source": [
    "valeurs_cartes = [\"2\", \"3\", \"4\", \"5\", \"6\", \"7\", \"8\", \"9\", \"10\", \"Valet\", \"Dame\", \"Roi\", \"As\"]\n",
    "couleurs_cartes = [\"S\", \"H\", \"D\", \"C\"]"
   ],
   "outputs": [],
   "execution_count": 26
  },
  {
   "cell_type": "markdown",
   "id": "1514d5b8",
   "metadata": {},
   "source": [
    "### 2. Construction du jeu de carte"
   ]
  },
  {
   "cell_type": "code",
   "id": "5e0335f1",
   "metadata": {
    "ExecuteTime": {
     "end_time": "2025-09-07T10:46:45.152010Z",
     "start_time": "2025-09-07T10:46:45.148601Z"
    }
   },
   "source": [
    "jeu = []\n",
    "for valeur in valeurs_cartes:\n",
    "    for couleur in couleurs_cartes:\n",
    "        jeu.append(f\"{valeur}{couleur}\")\n",
    "print(\"cartes dans le paquet :\", len(jeu)) \n",
    "print(jeu)"
   ],
   "outputs": [
    {
     "name": "stdout",
     "output_type": "stream",
     "text": [
      "cartes dans le paquet : 52\n",
      "['2S', '2H', '2D', '2C', '3S', '3H', '3D', '3C', '4S', '4H', '4D', '4C', '5S', '5H', '5D', '5C', '6S', '6H', '6D', '6C', '7S', '7H', '7D', '7C', '8S', '8H', '8D', '8C', '9S', '9H', '9D', '9C', '10S', '10H', '10D', '10C', 'ValetS', 'ValetH', 'ValetD', 'ValetC', 'DameS', 'DameH', 'DameD', 'DameC', 'RoiS', 'RoiH', 'RoiD', 'RoiC', 'AsS', 'AsH', 'AsD', 'AsC']\n"
     ]
    }
   ],
   "execution_count": 27
  },
  {
   "cell_type": "markdown",
   "id": "05795707",
   "metadata": {},
   "source": [
    "### a Quelle est la probabilité que les deux premières cartes distribuées au joueur totalisent 21 points (blackjack) ?\n"
   ]
  },
  {
   "cell_type": "code",
   "id": "6826fb3a",
   "metadata": {
    "ExecuteTime": {
     "end_time": "2025-09-07T10:46:45.181031Z",
     "start_time": "2025-09-07T10:46:45.173237Z"
    }
   },
   "source": [
    "tableau_c = pd.DataFrame(itertools.combinations(jeu, 2))\n",
    "tableau_c.columns = tableau_c.columns + 1\n",
    "tableau_c"
   ],
   "outputs": [
    {
     "data": {
      "text/plain": [
       "        1    2\n",
       "0      2S   2H\n",
       "1      2S   2D\n",
       "2      2S   2C\n",
       "3      2S   3S\n",
       "4      2S   3H\n",
       "...   ...  ...\n",
       "1321  AsS  AsD\n",
       "1322  AsS  AsC\n",
       "1323  AsH  AsD\n",
       "1324  AsH  AsC\n",
       "1325  AsD  AsC\n",
       "\n",
       "[1326 rows x 2 columns]"
      ],
      "text/html": [
       "<div>\n",
       "<style scoped>\n",
       "    .dataframe tbody tr th:only-of-type {\n",
       "        vertical-align: middle;\n",
       "    }\n",
       "\n",
       "    .dataframe tbody tr th {\n",
       "        vertical-align: top;\n",
       "    }\n",
       "\n",
       "    .dataframe thead th {\n",
       "        text-align: right;\n",
       "    }\n",
       "</style>\n",
       "<table border=\"1\" class=\"dataframe\">\n",
       "  <thead>\n",
       "    <tr style=\"text-align: right;\">\n",
       "      <th></th>\n",
       "      <th>1</th>\n",
       "      <th>2</th>\n",
       "    </tr>\n",
       "  </thead>\n",
       "  <tbody>\n",
       "    <tr>\n",
       "      <th>0</th>\n",
       "      <td>2S</td>\n",
       "      <td>2H</td>\n",
       "    </tr>\n",
       "    <tr>\n",
       "      <th>1</th>\n",
       "      <td>2S</td>\n",
       "      <td>2D</td>\n",
       "    </tr>\n",
       "    <tr>\n",
       "      <th>2</th>\n",
       "      <td>2S</td>\n",
       "      <td>2C</td>\n",
       "    </tr>\n",
       "    <tr>\n",
       "      <th>3</th>\n",
       "      <td>2S</td>\n",
       "      <td>3S</td>\n",
       "    </tr>\n",
       "    <tr>\n",
       "      <th>4</th>\n",
       "      <td>2S</td>\n",
       "      <td>3H</td>\n",
       "    </tr>\n",
       "    <tr>\n",
       "      <th>...</th>\n",
       "      <td>...</td>\n",
       "      <td>...</td>\n",
       "    </tr>\n",
       "    <tr>\n",
       "      <th>1321</th>\n",
       "      <td>AsS</td>\n",
       "      <td>AsD</td>\n",
       "    </tr>\n",
       "    <tr>\n",
       "      <th>1322</th>\n",
       "      <td>AsS</td>\n",
       "      <td>AsC</td>\n",
       "    </tr>\n",
       "    <tr>\n",
       "      <th>1323</th>\n",
       "      <td>AsH</td>\n",
       "      <td>AsD</td>\n",
       "    </tr>\n",
       "    <tr>\n",
       "      <th>1324</th>\n",
       "      <td>AsH</td>\n",
       "      <td>AsC</td>\n",
       "    </tr>\n",
       "    <tr>\n",
       "      <th>1325</th>\n",
       "      <td>AsD</td>\n",
       "      <td>AsC</td>\n",
       "    </tr>\n",
       "  </tbody>\n",
       "</table>\n",
       "<p>1326 rows × 2 columns</p>\n",
       "</div>"
      ]
     },
     "execution_count": 28,
     "metadata": {},
     "output_type": "execute_result"
    }
   ],
   "execution_count": 28
  },
  {
   "cell_type": "code",
   "id": "d73ef03d",
   "metadata": {
    "ExecuteTime": {
     "end_time": "2025-09-07T10:46:45.229097Z",
     "start_time": "2025-09-07T10:46:45.222194Z"
    }
   },
   "source": [
    "df_favorables = tableau_c[((tableau_c[1].str[:-1] == 'As') & (tableau_c[2].str[:-1].isin(['Dame', 'Valet', 'Roi', '10']))) | ((tableau_c[2].str[:-1] == 'As') & (tableau_c[1].str[:-1].isin(['Dame', 'Valet', 'Roi', '10'])))]\n",
    "print (df_favorables)"
   ],
   "outputs": [
    {
     "name": "stdout",
     "output_type": "stream",
     "text": [
      "         1    2\n",
      "1151   10S  AsS\n",
      "1152   10S  AsH\n",
      "1153   10S  AsD\n",
      "1154   10S  AsC\n",
      "1169   10H  AsS\n",
      "...    ...  ...\n",
      "1315  RoiD  AsC\n",
      "1316  RoiC  AsS\n",
      "1317  RoiC  AsH\n",
      "1318  RoiC  AsD\n",
      "1319  RoiC  AsC\n",
      "\n",
      "[64 rows x 2 columns]\n"
     ]
    }
   ],
   "execution_count": 29
  },
  {
   "cell_type": "code",
   "id": "ffcebf27",
   "metadata": {
    "ExecuteTime": {
     "end_time": "2025-09-07T10:46:45.314145Z",
     "start_time": "2025-09-07T10:46:45.310393Z"
    }
   },
   "source": [
    "cartes_valeur_dix = [\"10\", \"Valet\", \"Dame\", \"Roi\"]\n",
    "\n",
    "def verifier_blackjack(une_main):\n",
    "    valeurs = []\n",
    "    for groupe in une_main:\n",
    "        carte = next(iter(groupe))\n",
    "        valeur_carte = carte[0:len(carte)-1]    # ← CHANGÉ\n",
    "        valeurs.append(valeur_carte)\n",
    "\n",
    "    contient_as = \"As\" in valeurs\n",
    "    contient_un_dix = False\n",
    "    for val in valeurs:\n",
    "        if val in cartes_valeur_dix:\n",
    "            contient_un_dix = True\n",
    "            break\n",
    "    return contient_as and contient_un_dix"
   ],
   "outputs": [],
   "execution_count": 30
  },
  {
   "cell_type": "code",
   "id": "bd1c44f5",
   "metadata": {
    "ExecuteTime": {
     "end_time": "2025-09-07T10:46:45.346278Z",
     "start_time": "2025-09-07T10:46:45.343086Z"
    }
   },
   "source": [
    "proba_bj = len(df_favorables) / len(tableau_c)\n",
    "print(\"Probabilité :\", proba_bj)      "
   ],
   "outputs": [
    {
     "name": "stdout",
     "output_type": "stream",
     "text": [
      "Probabilité : 0.048265460030165915\n"
     ]
    }
   ],
   "execution_count": 31
  },
  {
   "cell_type": "markdown",
   "id": "4e554ac1",
   "metadata": {},
   "source": [
    "### b) Si les deux premieres cartes distribuées sont une dame et un 5. Quelle est la probabilité qu’il perde aussitôt s’il demande une 3e carte ?\n"
   ]
  },
  {
   "cell_type": "code",
   "id": "2a8db3af",
   "metadata": {
    "ExecuteTime": {
     "end_time": "2025-09-07T10:46:45.400654Z",
     "start_time": "2025-09-07T10:46:45.397882Z"
    }
   },
   "source": [
    "jeu_de50 = jeu.copy()\n",
    "jeu_de50.remove(\"DameS\")\n",
    "jeu_de50.remove(\"5S\")"
   ],
   "outputs": [],
   "execution_count": 32
  },
  {
   "cell_type": "code",
   "id": "da63de9a",
   "metadata": {
    "ExecuteTime": {
     "end_time": "2025-09-07T10:46:45.443569Z",
     "start_time": "2025-09-07T10:46:45.437187Z"
    }
   },
   "source": [
    "tableau_c_perte = pd.DataFrame(jeu_de50, columns=[0])\n",
    "tableau_c_perte.columns = tableau_c_perte.columns + 1\n",
    "tableau_c_perte"
   ],
   "outputs": [
    {
     "data": {
      "text/plain": [
       "         1\n",
       "0       2S\n",
       "1       2H\n",
       "2       2D\n",
       "3       2C\n",
       "4       3S\n",
       "5       3H\n",
       "6       3D\n",
       "7       3C\n",
       "8       4S\n",
       "9       4H\n",
       "10      4D\n",
       "11      4C\n",
       "12      5H\n",
       "13      5D\n",
       "14      5C\n",
       "15      6S\n",
       "16      6H\n",
       "17      6D\n",
       "18      6C\n",
       "19      7S\n",
       "20      7H\n",
       "21      7D\n",
       "22      7C\n",
       "23      8S\n",
       "24      8H\n",
       "25      8D\n",
       "26      8C\n",
       "27      9S\n",
       "28      9H\n",
       "29      9D\n",
       "30      9C\n",
       "31     10S\n",
       "32     10H\n",
       "33     10D\n",
       "34     10C\n",
       "35  ValetS\n",
       "36  ValetH\n",
       "37  ValetD\n",
       "38  ValetC\n",
       "39   DameH\n",
       "40   DameD\n",
       "41   DameC\n",
       "42    RoiS\n",
       "43    RoiH\n",
       "44    RoiD\n",
       "45    RoiC\n",
       "46     AsS\n",
       "47     AsH\n",
       "48     AsD\n",
       "49     AsC"
      ],
      "text/html": [
       "<div>\n",
       "<style scoped>\n",
       "    .dataframe tbody tr th:only-of-type {\n",
       "        vertical-align: middle;\n",
       "    }\n",
       "\n",
       "    .dataframe tbody tr th {\n",
       "        vertical-align: top;\n",
       "    }\n",
       "\n",
       "    .dataframe thead th {\n",
       "        text-align: right;\n",
       "    }\n",
       "</style>\n",
       "<table border=\"1\" class=\"dataframe\">\n",
       "  <thead>\n",
       "    <tr style=\"text-align: right;\">\n",
       "      <th></th>\n",
       "      <th>1</th>\n",
       "    </tr>\n",
       "  </thead>\n",
       "  <tbody>\n",
       "    <tr>\n",
       "      <th>0</th>\n",
       "      <td>2S</td>\n",
       "    </tr>\n",
       "    <tr>\n",
       "      <th>1</th>\n",
       "      <td>2H</td>\n",
       "    </tr>\n",
       "    <tr>\n",
       "      <th>2</th>\n",
       "      <td>2D</td>\n",
       "    </tr>\n",
       "    <tr>\n",
       "      <th>3</th>\n",
       "      <td>2C</td>\n",
       "    </tr>\n",
       "    <tr>\n",
       "      <th>4</th>\n",
       "      <td>3S</td>\n",
       "    </tr>\n",
       "    <tr>\n",
       "      <th>5</th>\n",
       "      <td>3H</td>\n",
       "    </tr>\n",
       "    <tr>\n",
       "      <th>6</th>\n",
       "      <td>3D</td>\n",
       "    </tr>\n",
       "    <tr>\n",
       "      <th>7</th>\n",
       "      <td>3C</td>\n",
       "    </tr>\n",
       "    <tr>\n",
       "      <th>8</th>\n",
       "      <td>4S</td>\n",
       "    </tr>\n",
       "    <tr>\n",
       "      <th>9</th>\n",
       "      <td>4H</td>\n",
       "    </tr>\n",
       "    <tr>\n",
       "      <th>10</th>\n",
       "      <td>4D</td>\n",
       "    </tr>\n",
       "    <tr>\n",
       "      <th>11</th>\n",
       "      <td>4C</td>\n",
       "    </tr>\n",
       "    <tr>\n",
       "      <th>12</th>\n",
       "      <td>5H</td>\n",
       "    </tr>\n",
       "    <tr>\n",
       "      <th>13</th>\n",
       "      <td>5D</td>\n",
       "    </tr>\n",
       "    <tr>\n",
       "      <th>14</th>\n",
       "      <td>5C</td>\n",
       "    </tr>\n",
       "    <tr>\n",
       "      <th>15</th>\n",
       "      <td>6S</td>\n",
       "    </tr>\n",
       "    <tr>\n",
       "      <th>16</th>\n",
       "      <td>6H</td>\n",
       "    </tr>\n",
       "    <tr>\n",
       "      <th>17</th>\n",
       "      <td>6D</td>\n",
       "    </tr>\n",
       "    <tr>\n",
       "      <th>18</th>\n",
       "      <td>6C</td>\n",
       "    </tr>\n",
       "    <tr>\n",
       "      <th>19</th>\n",
       "      <td>7S</td>\n",
       "    </tr>\n",
       "    <tr>\n",
       "      <th>20</th>\n",
       "      <td>7H</td>\n",
       "    </tr>\n",
       "    <tr>\n",
       "      <th>21</th>\n",
       "      <td>7D</td>\n",
       "    </tr>\n",
       "    <tr>\n",
       "      <th>22</th>\n",
       "      <td>7C</td>\n",
       "    </tr>\n",
       "    <tr>\n",
       "      <th>23</th>\n",
       "      <td>8S</td>\n",
       "    </tr>\n",
       "    <tr>\n",
       "      <th>24</th>\n",
       "      <td>8H</td>\n",
       "    </tr>\n",
       "    <tr>\n",
       "      <th>25</th>\n",
       "      <td>8D</td>\n",
       "    </tr>\n",
       "    <tr>\n",
       "      <th>26</th>\n",
       "      <td>8C</td>\n",
       "    </tr>\n",
       "    <tr>\n",
       "      <th>27</th>\n",
       "      <td>9S</td>\n",
       "    </tr>\n",
       "    <tr>\n",
       "      <th>28</th>\n",
       "      <td>9H</td>\n",
       "    </tr>\n",
       "    <tr>\n",
       "      <th>29</th>\n",
       "      <td>9D</td>\n",
       "    </tr>\n",
       "    <tr>\n",
       "      <th>30</th>\n",
       "      <td>9C</td>\n",
       "    </tr>\n",
       "    <tr>\n",
       "      <th>31</th>\n",
       "      <td>10S</td>\n",
       "    </tr>\n",
       "    <tr>\n",
       "      <th>32</th>\n",
       "      <td>10H</td>\n",
       "    </tr>\n",
       "    <tr>\n",
       "      <th>33</th>\n",
       "      <td>10D</td>\n",
       "    </tr>\n",
       "    <tr>\n",
       "      <th>34</th>\n",
       "      <td>10C</td>\n",
       "    </tr>\n",
       "    <tr>\n",
       "      <th>35</th>\n",
       "      <td>ValetS</td>\n",
       "    </tr>\n",
       "    <tr>\n",
       "      <th>36</th>\n",
       "      <td>ValetH</td>\n",
       "    </tr>\n",
       "    <tr>\n",
       "      <th>37</th>\n",
       "      <td>ValetD</td>\n",
       "    </tr>\n",
       "    <tr>\n",
       "      <th>38</th>\n",
       "      <td>ValetC</td>\n",
       "    </tr>\n",
       "    <tr>\n",
       "      <th>39</th>\n",
       "      <td>DameH</td>\n",
       "    </tr>\n",
       "    <tr>\n",
       "      <th>40</th>\n",
       "      <td>DameD</td>\n",
       "    </tr>\n",
       "    <tr>\n",
       "      <th>41</th>\n",
       "      <td>DameC</td>\n",
       "    </tr>\n",
       "    <tr>\n",
       "      <th>42</th>\n",
       "      <td>RoiS</td>\n",
       "    </tr>\n",
       "    <tr>\n",
       "      <th>43</th>\n",
       "      <td>RoiH</td>\n",
       "    </tr>\n",
       "    <tr>\n",
       "      <th>44</th>\n",
       "      <td>RoiD</td>\n",
       "    </tr>\n",
       "    <tr>\n",
       "      <th>45</th>\n",
       "      <td>RoiC</td>\n",
       "    </tr>\n",
       "    <tr>\n",
       "      <th>46</th>\n",
       "      <td>AsS</td>\n",
       "    </tr>\n",
       "    <tr>\n",
       "      <th>47</th>\n",
       "      <td>AsH</td>\n",
       "    </tr>\n",
       "    <tr>\n",
       "      <th>48</th>\n",
       "      <td>AsD</td>\n",
       "    </tr>\n",
       "    <tr>\n",
       "      <th>49</th>\n",
       "      <td>AsC</td>\n",
       "    </tr>\n",
       "  </tbody>\n",
       "</table>\n",
       "</div>"
      ]
     },
     "execution_count": 33,
     "metadata": {},
     "output_type": "execute_result"
    }
   ],
   "execution_count": 33
  },
  {
   "cell_type": "code",
   "id": "cd7bf19c",
   "metadata": {
    "ExecuteTime": {
     "end_time": "2025-09-07T10:46:45.491219Z",
     "start_time": "2025-09-07T10:46:45.487667Z"
    }
   },
   "source": [
    "def verifier_si_perdu(une_carte):\n",
    "    valeur_carte = une_carte[:-1]\n",
    "    \n",
    "    if valeur_carte in [\"Valet\", \"Dame\", \"Roi\"]:\n",
    "        valeur_n = 10\n",
    "    elif valeur_carte == \"As\":\n",
    "        valeur_n = 1\n",
    "    else:\n",
    "        valeur_n = int(valeur_carte)\n",
    "    total_actuel = 15\n",
    "    nouveau_total = total_actuel + valeur_n\n",
    "    return nouveau_total > 21"
   ],
   "outputs": [],
   "execution_count": 34
  },
  {
   "cell_type": "code",
   "id": "f817d50c",
   "metadata": {
    "ExecuteTime": {
     "end_time": "2025-09-07T10:46:45.558150Z",
     "start_time": "2025-09-07T10:46:45.551293Z"
    }
   },
   "source": [
    "cartes_qui_font_perdre = tableau_c_perte[tableau_c_perte[1].apply(verifier_si_perdu)]\n",
    "cartes_qui_font_perdre"
   ],
   "outputs": [
    {
     "data": {
      "text/plain": [
       "         1\n",
       "19      7S\n",
       "20      7H\n",
       "21      7D\n",
       "22      7C\n",
       "23      8S\n",
       "24      8H\n",
       "25      8D\n",
       "26      8C\n",
       "27      9S\n",
       "28      9H\n",
       "29      9D\n",
       "30      9C\n",
       "31     10S\n",
       "32     10H\n",
       "33     10D\n",
       "34     10C\n",
       "35  ValetS\n",
       "36  ValetH\n",
       "37  ValetD\n",
       "38  ValetC\n",
       "39   DameH\n",
       "40   DameD\n",
       "41   DameC\n",
       "42    RoiS\n",
       "43    RoiH\n",
       "44    RoiD\n",
       "45    RoiC"
      ],
      "text/html": [
       "<div>\n",
       "<style scoped>\n",
       "    .dataframe tbody tr th:only-of-type {\n",
       "        vertical-align: middle;\n",
       "    }\n",
       "\n",
       "    .dataframe tbody tr th {\n",
       "        vertical-align: top;\n",
       "    }\n",
       "\n",
       "    .dataframe thead th {\n",
       "        text-align: right;\n",
       "    }\n",
       "</style>\n",
       "<table border=\"1\" class=\"dataframe\">\n",
       "  <thead>\n",
       "    <tr style=\"text-align: right;\">\n",
       "      <th></th>\n",
       "      <th>1</th>\n",
       "    </tr>\n",
       "  </thead>\n",
       "  <tbody>\n",
       "    <tr>\n",
       "      <th>19</th>\n",
       "      <td>7S</td>\n",
       "    </tr>\n",
       "    <tr>\n",
       "      <th>20</th>\n",
       "      <td>7H</td>\n",
       "    </tr>\n",
       "    <tr>\n",
       "      <th>21</th>\n",
       "      <td>7D</td>\n",
       "    </tr>\n",
       "    <tr>\n",
       "      <th>22</th>\n",
       "      <td>7C</td>\n",
       "    </tr>\n",
       "    <tr>\n",
       "      <th>23</th>\n",
       "      <td>8S</td>\n",
       "    </tr>\n",
       "    <tr>\n",
       "      <th>24</th>\n",
       "      <td>8H</td>\n",
       "    </tr>\n",
       "    <tr>\n",
       "      <th>25</th>\n",
       "      <td>8D</td>\n",
       "    </tr>\n",
       "    <tr>\n",
       "      <th>26</th>\n",
       "      <td>8C</td>\n",
       "    </tr>\n",
       "    <tr>\n",
       "      <th>27</th>\n",
       "      <td>9S</td>\n",
       "    </tr>\n",
       "    <tr>\n",
       "      <th>28</th>\n",
       "      <td>9H</td>\n",
       "    </tr>\n",
       "    <tr>\n",
       "      <th>29</th>\n",
       "      <td>9D</td>\n",
       "    </tr>\n",
       "    <tr>\n",
       "      <th>30</th>\n",
       "      <td>9C</td>\n",
       "    </tr>\n",
       "    <tr>\n",
       "      <th>31</th>\n",
       "      <td>10S</td>\n",
       "    </tr>\n",
       "    <tr>\n",
       "      <th>32</th>\n",
       "      <td>10H</td>\n",
       "    </tr>\n",
       "    <tr>\n",
       "      <th>33</th>\n",
       "      <td>10D</td>\n",
       "    </tr>\n",
       "    <tr>\n",
       "      <th>34</th>\n",
       "      <td>10C</td>\n",
       "    </tr>\n",
       "    <tr>\n",
       "      <th>35</th>\n",
       "      <td>ValetS</td>\n",
       "    </tr>\n",
       "    <tr>\n",
       "      <th>36</th>\n",
       "      <td>ValetH</td>\n",
       "    </tr>\n",
       "    <tr>\n",
       "      <th>37</th>\n",
       "      <td>ValetD</td>\n",
       "    </tr>\n",
       "    <tr>\n",
       "      <th>38</th>\n",
       "      <td>ValetC</td>\n",
       "    </tr>\n",
       "    <tr>\n",
       "      <th>39</th>\n",
       "      <td>DameH</td>\n",
       "    </tr>\n",
       "    <tr>\n",
       "      <th>40</th>\n",
       "      <td>DameD</td>\n",
       "    </tr>\n",
       "    <tr>\n",
       "      <th>41</th>\n",
       "      <td>DameC</td>\n",
       "    </tr>\n",
       "    <tr>\n",
       "      <th>42</th>\n",
       "      <td>RoiS</td>\n",
       "    </tr>\n",
       "    <tr>\n",
       "      <th>43</th>\n",
       "      <td>RoiH</td>\n",
       "    </tr>\n",
       "    <tr>\n",
       "      <th>44</th>\n",
       "      <td>RoiD</td>\n",
       "    </tr>\n",
       "    <tr>\n",
       "      <th>45</th>\n",
       "      <td>RoiC</td>\n",
       "    </tr>\n",
       "  </tbody>\n",
       "</table>\n",
       "</div>"
      ]
     },
     "execution_count": 35,
     "metadata": {},
     "output_type": "execute_result"
    }
   ],
   "execution_count": 35
  },
  {
   "cell_type": "code",
   "id": "79223d95",
   "metadata": {
    "ExecuteTime": {
     "end_time": "2025-09-07T10:46:45.717388Z",
     "start_time": "2025-09-07T10:46:45.714204Z"
    }
   },
   "source": [
    "probabilite_perte = len(cartes_qui_font_perdre) / len(tableau_c_perte)\n",
    "print(\"Probabilité :\", probabilite_perte)"
   ],
   "outputs": [
    {
     "name": "stdout",
     "output_type": "stream",
     "text": [
      "Probabilité : 0.54\n"
     ]
    }
   ],
   "execution_count": 36
  }
 ],
 "metadata": {
  "kernelspec": {
   "display_name": "Python 3",
   "language": "python",
   "name": "python3"
  },
  "language_info": {
   "codemirror_mode": {
    "name": "ipython",
    "version": 3
   },
   "file_extension": ".py",
   "mimetype": "text/x-python",
   "name": "python",
   "nbconvert_exporter": "python",
   "pygments_lexer": "ipython3",
   "version": "3.13.7"
  }
 },
 "nbformat": 4,
 "nbformat_minor": 5
}
