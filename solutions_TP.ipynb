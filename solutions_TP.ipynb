{
 "cells": [
  {
   "cell_type": "markdown",
   "id": "51277db4",
   "metadata": {},
   "source": [
    "# Exemple de résolution du TP 1"
   ]
  },
  {
   "cell_type": "markdown",
   "id": "f7dbaf15",
   "metadata": {},
   "source": [
    "## Problème"
   ]
  },
  {
   "cell_type": "markdown",
   "id": "a5370086",
   "metadata": {},
   "source": [
    "2. Si l’on considère un groupe de 4 personnes, combien y a-t-il de façon de les répartir\n",
    "dans 2 équipes de 2 ?"
   ]
  },
  {
   "cell_type": "markdown",
   "id": "e9f02688",
   "metadata": {},
   "source": [
    "### Produire une solution de 3 manières différentes :\n",
    "\n",
    "1. De manière analytique (en utilisant des formules mathématiques).\n",
    "\n",
    "1. En utilisant une méthode de force brute (en énumérant toutes les combinaisons possibles de manière séquentielle).\n",
    "\n",
    "1. En utilisant une méthode probabiliste (en simulant un grand nombre de combinaisons de 4 lancers de dé de manière aléatoire)."
   ]
  },
  {
   "cell_type": "markdown",
   "id": "ea2d1c0e",
   "metadata": {},
   "source": [
    "### Hint"
   ]
  },
  {
   "cell_type": "markdown",
   "id": "d9526e86",
   "metadata": {},
   "source": [
    "La bibliothèque standard de Python inclus un module très utile pour le dénombrement : [`itertools`](https://docs.python.org/fr/3/library/itertools.html)\n",
    "\n",
    "En particulier les itérateurs combinatoires :\n",
    "\n",
    "* `product()` : produit cartésien, équivalent à une boucle for imbriquée\n",
    "* `permutations()`\n",
    "* `combinations()`\n",
    "* `combinations_with_replacement()`"
   ]
  },
  {
   "cell_type": "markdown",
   "id": "724a2ddc",
   "metadata": {},
   "source": [
    "## Code\n",
    "### Import et configuration"
   ]
  },
  {
   "cell_type": "code",
   "execution_count": 3,
   "id": "438857a5-c3d7-4ff2-b480-6a8fb48bd033",
   "metadata": {
    "slideshow": {
     "slide_type": "skip"
    }
   },
   "outputs": [],
   "source": [
    "import itertools\n",
    "\n",
    "import matplotlib.pyplot as plt\n",
    "import numpy as np\n",
    "import pandas as pd\n",
    "import seaborn as sns\n",
    "from scipy.special import comb, factorial as fac"
   ]
  },
  {
   "cell_type": "code",
   "execution_count": 2,
   "id": "0d8aa53f",
   "metadata": {},
   "outputs": [],
   "source": [
    "%config InlineBackend.figure_format=\"retina\"  # For high DPI display\n",
    "\n",
    "sns.set_style(\"darkgrid\")\n",
    "sns.set_context(\"notebook\")"
   ]
  },
  {
   "cell_type": "markdown",
   "id": "cc9bbc71",
   "metadata": {},
   "source": [
    "### Helper functions"
   ]
  },
  {
   "cell_type": "code",
   "execution_count": 3,
   "id": "bdb4511a",
   "metadata": {},
   "outputs": [],
   "source": [
    "def print_pct(p, prec=1):\n",
    "    print(f\"{p:.{prec}%}\")"
   ]
  },
  {
   "cell_type": "code",
   "execution_count": null,
   "id": "3b6258b3",
   "metadata": {},
   "outputs": [],
   "source": []
  },
  {
   "cell_type": "markdown",
   "id": "8ee351b4",
   "metadata": {},
   "source": [
    "### Solution 1 (analytique)"
   ]
  },
  {
   "cell_type": "markdown",
   "id": "8bf9c966",
   "metadata": {},
   "source": [
    "$$\\frac{\\displaystyle\\binom{N}{n}}{2!}$$"
   ]
  },
  {
   "cell_type": "code",
   "execution_count": 1,
   "id": "44477bbd",
   "metadata": {},
   "outputs": [
    {
     "ename": "NameError",
     "evalue": "name 'comb' is not defined",
     "output_type": "error",
     "traceback": [
      "\u001b[31m---------------------------------------------------------------------------\u001b[39m",
      "\u001b[31mNameError\u001b[39m                                 Traceback (most recent call last)",
      "\u001b[36mCell\u001b[39m\u001b[36m \u001b[39m\u001b[32mIn[1]\u001b[39m\u001b[32m, line 4\u001b[39m\n\u001b[32m      1\u001b[39m N = \u001b[32m4\u001b[39m\n\u001b[32m      2\u001b[39m n = \u001b[32m2\u001b[39m\n\u001b[32m----> \u001b[39m\u001b[32m4\u001b[39m \u001b[43mcomb\u001b[49m(N, n) / fac(\u001b[32m2\u001b[39m)\n",
      "\u001b[31mNameError\u001b[39m: name 'comb' is not defined"
     ]
    }
   ],
   "source": [
    "N = 4\n",
    "n = 2\n",
    "\n",
    "comb(N, n) / fac(2)"
   ]
  },
  {
   "cell_type": "markdown",
   "id": "c77a3384",
   "metadata": {},
   "source": [
    "### Solution 2 (force brute)"
   ]
  },
  {
   "cell_type": "markdown",
   "id": "7da08a82",
   "metadata": {},
   "source": [
    "#### Définition des dès"
   ]
  },
  {
   "cell_type": "code",
   "execution_count": 5,
   "id": "6cff7e6e",
   "metadata": {},
   "outputs": [
    {
     "data": {
      "text/plain": [
       "['A', 'B', 'C', 'D']"
      ]
     },
     "execution_count": 5,
     "metadata": {},
     "output_type": "execute_result"
    }
   ],
   "source": [
    "PEOPLE = list(\"ABCD\")\n",
    "PEOPLE"
   ]
  },
  {
   "cell_type": "code",
   "execution_count": 6,
   "id": "2b27a077",
   "metadata": {},
   "outputs": [
    {
     "data": {
      "text/html": [
       "<div>\n",
       "<style scoped>\n",
       "    .dataframe tbody tr th:only-of-type {\n",
       "        vertical-align: middle;\n",
       "    }\n",
       "\n",
       "    .dataframe tbody tr th {\n",
       "        vertical-align: top;\n",
       "    }\n",
       "\n",
       "    .dataframe thead th {\n",
       "        text-align: right;\n",
       "    }\n",
       "</style>\n",
       "<table border=\"1\" class=\"dataframe\">\n",
       "  <thead>\n",
       "    <tr style=\"text-align: right;\">\n",
       "      <th></th>\n",
       "      <th>1</th>\n",
       "      <th>2</th>\n",
       "      <th>3</th>\n",
       "      <th>4</th>\n",
       "    </tr>\n",
       "  </thead>\n",
       "  <tbody>\n",
       "    <tr>\n",
       "      <th>0</th>\n",
       "      <td>A</td>\n",
       "      <td>B</td>\n",
       "      <td>C</td>\n",
       "      <td>D</td>\n",
       "    </tr>\n",
       "    <tr>\n",
       "      <th>1</th>\n",
       "      <td>A</td>\n",
       "      <td>B</td>\n",
       "      <td>D</td>\n",
       "      <td>C</td>\n",
       "    </tr>\n",
       "    <tr>\n",
       "      <th>2</th>\n",
       "      <td>A</td>\n",
       "      <td>C</td>\n",
       "      <td>B</td>\n",
       "      <td>D</td>\n",
       "    </tr>\n",
       "    <tr>\n",
       "      <th>3</th>\n",
       "      <td>A</td>\n",
       "      <td>C</td>\n",
       "      <td>D</td>\n",
       "      <td>B</td>\n",
       "    </tr>\n",
       "    <tr>\n",
       "      <th>4</th>\n",
       "      <td>A</td>\n",
       "      <td>D</td>\n",
       "      <td>B</td>\n",
       "      <td>C</td>\n",
       "    </tr>\n",
       "    <tr>\n",
       "      <th>5</th>\n",
       "      <td>A</td>\n",
       "      <td>D</td>\n",
       "      <td>C</td>\n",
       "      <td>B</td>\n",
       "    </tr>\n",
       "    <tr>\n",
       "      <th>6</th>\n",
       "      <td>B</td>\n",
       "      <td>A</td>\n",
       "      <td>C</td>\n",
       "      <td>D</td>\n",
       "    </tr>\n",
       "    <tr>\n",
       "      <th>7</th>\n",
       "      <td>B</td>\n",
       "      <td>A</td>\n",
       "      <td>D</td>\n",
       "      <td>C</td>\n",
       "    </tr>\n",
       "    <tr>\n",
       "      <th>8</th>\n",
       "      <td>B</td>\n",
       "      <td>C</td>\n",
       "      <td>A</td>\n",
       "      <td>D</td>\n",
       "    </tr>\n",
       "    <tr>\n",
       "      <th>9</th>\n",
       "      <td>B</td>\n",
       "      <td>C</td>\n",
       "      <td>D</td>\n",
       "      <td>A</td>\n",
       "    </tr>\n",
       "    <tr>\n",
       "      <th>10</th>\n",
       "      <td>B</td>\n",
       "      <td>D</td>\n",
       "      <td>A</td>\n",
       "      <td>C</td>\n",
       "    </tr>\n",
       "    <tr>\n",
       "      <th>11</th>\n",
       "      <td>B</td>\n",
       "      <td>D</td>\n",
       "      <td>C</td>\n",
       "      <td>A</td>\n",
       "    </tr>\n",
       "    <tr>\n",
       "      <th>12</th>\n",
       "      <td>C</td>\n",
       "      <td>A</td>\n",
       "      <td>B</td>\n",
       "      <td>D</td>\n",
       "    </tr>\n",
       "    <tr>\n",
       "      <th>13</th>\n",
       "      <td>C</td>\n",
       "      <td>A</td>\n",
       "      <td>D</td>\n",
       "      <td>B</td>\n",
       "    </tr>\n",
       "    <tr>\n",
       "      <th>14</th>\n",
       "      <td>C</td>\n",
       "      <td>B</td>\n",
       "      <td>A</td>\n",
       "      <td>D</td>\n",
       "    </tr>\n",
       "    <tr>\n",
       "      <th>15</th>\n",
       "      <td>C</td>\n",
       "      <td>B</td>\n",
       "      <td>D</td>\n",
       "      <td>A</td>\n",
       "    </tr>\n",
       "    <tr>\n",
       "      <th>16</th>\n",
       "      <td>C</td>\n",
       "      <td>D</td>\n",
       "      <td>A</td>\n",
       "      <td>B</td>\n",
       "    </tr>\n",
       "    <tr>\n",
       "      <th>17</th>\n",
       "      <td>C</td>\n",
       "      <td>D</td>\n",
       "      <td>B</td>\n",
       "      <td>A</td>\n",
       "    </tr>\n",
       "    <tr>\n",
       "      <th>18</th>\n",
       "      <td>D</td>\n",
       "      <td>A</td>\n",
       "      <td>B</td>\n",
       "      <td>C</td>\n",
       "    </tr>\n",
       "    <tr>\n",
       "      <th>19</th>\n",
       "      <td>D</td>\n",
       "      <td>A</td>\n",
       "      <td>C</td>\n",
       "      <td>B</td>\n",
       "    </tr>\n",
       "    <tr>\n",
       "      <th>20</th>\n",
       "      <td>D</td>\n",
       "      <td>B</td>\n",
       "      <td>A</td>\n",
       "      <td>C</td>\n",
       "    </tr>\n",
       "    <tr>\n",
       "      <th>21</th>\n",
       "      <td>D</td>\n",
       "      <td>B</td>\n",
       "      <td>C</td>\n",
       "      <td>A</td>\n",
       "    </tr>\n",
       "    <tr>\n",
       "      <th>22</th>\n",
       "      <td>D</td>\n",
       "      <td>C</td>\n",
       "      <td>A</td>\n",
       "      <td>B</td>\n",
       "    </tr>\n",
       "    <tr>\n",
       "      <th>23</th>\n",
       "      <td>D</td>\n",
       "      <td>C</td>\n",
       "      <td>B</td>\n",
       "      <td>A</td>\n",
       "    </tr>\n",
       "  </tbody>\n",
       "</table>\n",
       "</div>"
      ],
      "text/plain": [
       "    1  2  3  4\n",
       "0   A  B  C  D\n",
       "1   A  B  D  C\n",
       "2   A  C  B  D\n",
       "3   A  C  D  B\n",
       "4   A  D  B  C\n",
       "5   A  D  C  B\n",
       "6   B  A  C  D\n",
       "7   B  A  D  C\n",
       "8   B  C  A  D\n",
       "9   B  C  D  A\n",
       "10  B  D  A  C\n",
       "11  B  D  C  A\n",
       "12  C  A  B  D\n",
       "13  C  A  D  B\n",
       "14  C  B  A  D\n",
       "15  C  B  D  A\n",
       "16  C  D  A  B\n",
       "17  C  D  B  A\n",
       "18  D  A  B  C\n",
       "19  D  A  C  B\n",
       "20  D  B  A  C\n",
       "21  D  B  C  A\n",
       "22  D  C  A  B\n",
       "23  D  C  B  A"
      ]
     },
     "execution_count": 6,
     "metadata": {},
     "output_type": "execute_result"
    }
   ],
   "source": [
    "people_df = pd.DataFrame(itertools.permutations(PEOPLE, 4))\n",
    "people_df.columns = people_df.columns + 1\n",
    "# df.columns = [f\"p{i}\" for i in df.columns + 1]\n",
    "people_df"
   ]
  },
  {
   "cell_type": "code",
   "execution_count": 7,
   "id": "6a0829b4",
   "metadata": {},
   "outputs": [
    {
     "data": {
      "text/html": [
       "<div>\n",
       "<style scoped>\n",
       "    .dataframe tbody tr th:only-of-type {\n",
       "        vertical-align: middle;\n",
       "    }\n",
       "\n",
       "    .dataframe tbody tr th {\n",
       "        vertical-align: top;\n",
       "    }\n",
       "\n",
       "    .dataframe thead th {\n",
       "        text-align: right;\n",
       "    }\n",
       "</style>\n",
       "<table border=\"1\" class=\"dataframe\">\n",
       "  <thead>\n",
       "    <tr style=\"text-align: right;\">\n",
       "      <th></th>\n",
       "      <th>g1</th>\n",
       "      <th>g2</th>\n",
       "    </tr>\n",
       "  </thead>\n",
       "  <tbody>\n",
       "    <tr>\n",
       "      <th>0</th>\n",
       "      <td>(A, B)</td>\n",
       "      <td>(D, C)</td>\n",
       "    </tr>\n",
       "    <tr>\n",
       "      <th>1</th>\n",
       "      <td>(A, B)</td>\n",
       "      <td>(C, D)</td>\n",
       "    </tr>\n",
       "    <tr>\n",
       "      <th>2</th>\n",
       "      <td>(A, C)</td>\n",
       "      <td>(D, B)</td>\n",
       "    </tr>\n",
       "    <tr>\n",
       "      <th>3</th>\n",
       "      <td>(A, C)</td>\n",
       "      <td>(D, B)</td>\n",
       "    </tr>\n",
       "    <tr>\n",
       "      <th>4</th>\n",
       "      <td>(A, D)</td>\n",
       "      <td>(C, B)</td>\n",
       "    </tr>\n",
       "    <tr>\n",
       "      <th>5</th>\n",
       "      <td>(A, D)</td>\n",
       "      <td>(C, B)</td>\n",
       "    </tr>\n",
       "    <tr>\n",
       "      <th>6</th>\n",
       "      <td>(A, B)</td>\n",
       "      <td>(D, C)</td>\n",
       "    </tr>\n",
       "    <tr>\n",
       "      <th>7</th>\n",
       "      <td>(A, B)</td>\n",
       "      <td>(C, D)</td>\n",
       "    </tr>\n",
       "    <tr>\n",
       "      <th>8</th>\n",
       "      <td>(C, B)</td>\n",
       "      <td>(A, D)</td>\n",
       "    </tr>\n",
       "    <tr>\n",
       "      <th>9</th>\n",
       "      <td>(C, B)</td>\n",
       "      <td>(A, D)</td>\n",
       "    </tr>\n",
       "    <tr>\n",
       "      <th>10</th>\n",
       "      <td>(D, B)</td>\n",
       "      <td>(A, C)</td>\n",
       "    </tr>\n",
       "    <tr>\n",
       "      <th>11</th>\n",
       "      <td>(D, B)</td>\n",
       "      <td>(A, C)</td>\n",
       "    </tr>\n",
       "    <tr>\n",
       "      <th>12</th>\n",
       "      <td>(A, C)</td>\n",
       "      <td>(D, B)</td>\n",
       "    </tr>\n",
       "    <tr>\n",
       "      <th>13</th>\n",
       "      <td>(A, C)</td>\n",
       "      <td>(D, B)</td>\n",
       "    </tr>\n",
       "    <tr>\n",
       "      <th>14</th>\n",
       "      <td>(C, B)</td>\n",
       "      <td>(A, D)</td>\n",
       "    </tr>\n",
       "    <tr>\n",
       "      <th>15</th>\n",
       "      <td>(C, B)</td>\n",
       "      <td>(A, D)</td>\n",
       "    </tr>\n",
       "    <tr>\n",
       "      <th>16</th>\n",
       "      <td>(D, C)</td>\n",
       "      <td>(A, B)</td>\n",
       "    </tr>\n",
       "    <tr>\n",
       "      <th>17</th>\n",
       "      <td>(D, C)</td>\n",
       "      <td>(A, B)</td>\n",
       "    </tr>\n",
       "    <tr>\n",
       "      <th>18</th>\n",
       "      <td>(A, D)</td>\n",
       "      <td>(C, B)</td>\n",
       "    </tr>\n",
       "    <tr>\n",
       "      <th>19</th>\n",
       "      <td>(A, D)</td>\n",
       "      <td>(C, B)</td>\n",
       "    </tr>\n",
       "    <tr>\n",
       "      <th>20</th>\n",
       "      <td>(D, B)</td>\n",
       "      <td>(A, C)</td>\n",
       "    </tr>\n",
       "    <tr>\n",
       "      <th>21</th>\n",
       "      <td>(D, B)</td>\n",
       "      <td>(A, C)</td>\n",
       "    </tr>\n",
       "    <tr>\n",
       "      <th>22</th>\n",
       "      <td>(C, D)</td>\n",
       "      <td>(A, B)</td>\n",
       "    </tr>\n",
       "    <tr>\n",
       "      <th>23</th>\n",
       "      <td>(C, D)</td>\n",
       "      <td>(A, B)</td>\n",
       "    </tr>\n",
       "  </tbody>\n",
       "</table>\n",
       "</div>"
      ],
      "text/plain": [
       "        g1      g2\n",
       "0   (A, B)  (D, C)\n",
       "1   (A, B)  (C, D)\n",
       "2   (A, C)  (D, B)\n",
       "3   (A, C)  (D, B)\n",
       "4   (A, D)  (C, B)\n",
       "5   (A, D)  (C, B)\n",
       "6   (A, B)  (D, C)\n",
       "7   (A, B)  (C, D)\n",
       "8   (C, B)  (A, D)\n",
       "9   (C, B)  (A, D)\n",
       "10  (D, B)  (A, C)\n",
       "11  (D, B)  (A, C)\n",
       "12  (A, C)  (D, B)\n",
       "13  (A, C)  (D, B)\n",
       "14  (C, B)  (A, D)\n",
       "15  (C, B)  (A, D)\n",
       "16  (D, C)  (A, B)\n",
       "17  (D, C)  (A, B)\n",
       "18  (A, D)  (C, B)\n",
       "19  (A, D)  (C, B)\n",
       "20  (D, B)  (A, C)\n",
       "21  (D, B)  (A, C)\n",
       "22  (C, D)  (A, B)\n",
       "23  (C, D)  (A, B)"
      ]
     },
     "execution_count": 7,
     "metadata": {},
     "output_type": "execute_result"
    }
   ],
   "source": [
    "people_df[\"g1\"] = people_df.loc[:, 1:2].apply(frozenset, axis=1)\n",
    "people_df[\"g2\"] = people_df.loc[:, 3:4].apply(frozenset, axis=1)\n",
    "people_df.drop(columns=range(1, 5), inplace=True)\n",
    "people_df"
   ]
  },
  {
   "cell_type": "code",
   "execution_count": 8,
   "id": "45a45ce2",
   "metadata": {},
   "outputs": [
    {
     "data": {
      "text/html": [
       "<div>\n",
       "<style scoped>\n",
       "    .dataframe tbody tr th:only-of-type {\n",
       "        vertical-align: middle;\n",
       "    }\n",
       "\n",
       "    .dataframe tbody tr th {\n",
       "        vertical-align: top;\n",
       "    }\n",
       "\n",
       "    .dataframe thead th {\n",
       "        text-align: right;\n",
       "    }\n",
       "</style>\n",
       "<table border=\"1\" class=\"dataframe\">\n",
       "  <thead>\n",
       "    <tr style=\"text-align: right;\">\n",
       "      <th></th>\n",
       "      <th>g1</th>\n",
       "      <th>g2</th>\n",
       "    </tr>\n",
       "  </thead>\n",
       "  <tbody>\n",
       "    <tr>\n",
       "      <th>0</th>\n",
       "      <td>(A, B)</td>\n",
       "      <td>(D, C)</td>\n",
       "    </tr>\n",
       "    <tr>\n",
       "      <th>2</th>\n",
       "      <td>(A, C)</td>\n",
       "      <td>(D, B)</td>\n",
       "    </tr>\n",
       "    <tr>\n",
       "      <th>4</th>\n",
       "      <td>(A, D)</td>\n",
       "      <td>(C, B)</td>\n",
       "    </tr>\n",
       "    <tr>\n",
       "      <th>8</th>\n",
       "      <td>(C, B)</td>\n",
       "      <td>(A, D)</td>\n",
       "    </tr>\n",
       "    <tr>\n",
       "      <th>10</th>\n",
       "      <td>(D, B)</td>\n",
       "      <td>(A, C)</td>\n",
       "    </tr>\n",
       "    <tr>\n",
       "      <th>16</th>\n",
       "      <td>(D, C)</td>\n",
       "      <td>(A, B)</td>\n",
       "    </tr>\n",
       "  </tbody>\n",
       "</table>\n",
       "</div>"
      ],
      "text/plain": [
       "        g1      g2\n",
       "0   (A, B)  (D, C)\n",
       "2   (A, C)  (D, B)\n",
       "4   (A, D)  (C, B)\n",
       "8   (C, B)  (A, D)\n",
       "10  (D, B)  (A, C)\n",
       "16  (D, C)  (A, B)"
      ]
     },
     "execution_count": 8,
     "metadata": {},
     "output_type": "execute_result"
    }
   ],
   "source": [
    "people_df.drop_duplicates(inplace=True)\n",
    "people_df"
   ]
  },
  {
   "cell_type": "code",
   "execution_count": 9,
   "id": "6ae26aee",
   "metadata": {},
   "outputs": [
    {
     "data": {
      "text/plain": [
       "0     ((A, B), (D, C))\n",
       "2     ((A, C), (D, B))\n",
       "4     ((C, B), (A, D))\n",
       "8     ((A, D), (C, B))\n",
       "10    ((A, C), (D, B))\n",
       "16    ((D, C), (A, B))\n",
       "dtype: object"
      ]
     },
     "execution_count": 9,
     "metadata": {},
     "output_type": "execute_result"
    }
   ],
   "source": [
    "groups = people_df.apply(frozenset, axis=1)\n",
    "groups"
   ]
  },
  {
   "cell_type": "code",
   "execution_count": 10,
   "id": "7fc50571",
   "metadata": {},
   "outputs": [
    {
     "data": {
      "text/plain": [
       "0    ((A, B), (D, C))\n",
       "2    ((A, C), (D, B))\n",
       "4    ((C, B), (A, D))\n",
       "dtype: object"
      ]
     },
     "execution_count": 10,
     "metadata": {},
     "output_type": "execute_result"
    }
   ],
   "source": [
    "groups.drop_duplicates(inplace=True)\n",
    "groups"
   ]
  },
  {
   "cell_type": "code",
   "execution_count": 11,
   "id": "e8e5c413",
   "metadata": {},
   "outputs": [],
   "source": [
    "def make_equal_groups(df: pd.DataFrame, group_n: int):\n",
    "    df.columns = df.columns + 1\n",
    "    people_n = len(df.columns)\n",
    "    df[\"g1\"] = df.loc[:, 1:group_n].apply(frozenset, axis=1)\n",
    "    df[\"g2\"] = df.loc[:, group_n + 1:people_n].apply(frozenset, axis=1)\n",
    "    df.drop(columns=range(1, people_n + 1), inplace=True)\n",
    "    df.drop_duplicates(inplace=True)\n",
    "    groups = df.apply(frozenset, axis=1)\n",
    "    groups.drop_duplicates(inplace=True)\n",
    "    return groups.reset_index(drop=True)"
   ]
  },
  {
   "cell_type": "code",
   "execution_count": 12,
   "id": "eddba9f2",
   "metadata": {},
   "outputs": [
    {
     "data": {
      "text/plain": [
       "0    ((A, B), (D, C))\n",
       "1    ((A, C), (D, B))\n",
       "2    ((C, B), (A, D))\n",
       "dtype: object"
      ]
     },
     "execution_count": 12,
     "metadata": {},
     "output_type": "execute_result"
    }
   ],
   "source": [
    "ppl_df = pd.DataFrame(itertools.permutations(PEOPLE, 4))\n",
    "\n",
    "make_equal_groups(ppl_df, group_n=2)"
   ]
  },
  {
   "cell_type": "markdown",
   "id": "5c3714be",
   "metadata": {},
   "source": [
    "---"
   ]
  },
  {
   "cell_type": "markdown",
   "id": "d4796ee4-ac19-40fa-9d41-f2df7420b290",
   "metadata": {},
   "source": [
    "### Solution 3 (probabiliste)"
   ]
  },
  {
   "cell_type": "markdown",
   "id": "8a30ae3c",
   "metadata": {},
   "source": [
    "La bibliothèque open source NumPy est destinée à manipuler des matrices ou tableaux multidimensionnels.\n",
    "Elle propose également de nombreuses fonctions mathématiques et notemment des outils pour générer et manipuler des variables aléatoires.\n",
    "\n",
    "Les versions récentes de NumPy favorise l'utilisation du générateur aléatoire par défaut comme expliqué dans le lien ci-dessous :\n",
    "\n",
    "https://numpy.org/doc/stable/reference/random/generator.html\n",
    "\n",
    "TLDR : \n",
    "```python\n",
    "rng = np.random.default_rng(seed)\n",
    "rng.integers()\n",
    "# ou\n",
    "rng.random()\n",
    "# ou\n",
    "rng.permutation()\n",
    "# ...\n",
    "```"
   ]
  },
  {
   "cell_type": "code",
   "execution_count": 13,
   "id": "43125764-6652-4342-afe2-4524f211cc4e",
   "metadata": {},
   "outputs": [],
   "source": [
    "SEED = 1234  # Pour la reproductibilité des résultats (valeur arbitraire)\n",
    "\n",
    "RNG = np.random.default_rng(SEED)"
   ]
  },
  {
   "cell_type": "code",
   "execution_count": 14,
   "id": "10290112",
   "metadata": {},
   "outputs": [],
   "source": [
    "def rdm_permutation(rng, people):\n",
    "    return rng.permutation(people).tolist()"
   ]
  },
  {
   "cell_type": "code",
   "execution_count": 16,
   "id": "9cde7394",
   "metadata": {},
   "outputs": [
    {
     "data": {
      "text/plain": [
       "['B', 'C', 'D', 'A']"
      ]
     },
     "execution_count": 16,
     "metadata": {},
     "output_type": "execute_result"
    }
   ],
   "source": [
    "rdm_permutation(RNG, PEOPLE)"
   ]
  },
  {
   "cell_type": "code",
   "execution_count": 17,
   "id": "5109e7ac",
   "metadata": {},
   "outputs": [],
   "source": [
    "def rdm_perm_sim(rng, people, perm_n):\n",
    "    return [rdm_permutation(rng, people) for _ in range(perm_n)]"
   ]
  },
  {
   "cell_type": "code",
   "execution_count": 18,
   "id": "674fbdbe",
   "metadata": {},
   "outputs": [
    {
     "data": {
      "text/html": [
       "<div>\n",
       "<style scoped>\n",
       "    .dataframe tbody tr th:only-of-type {\n",
       "        vertical-align: middle;\n",
       "    }\n",
       "\n",
       "    .dataframe tbody tr th {\n",
       "        vertical-align: top;\n",
       "    }\n",
       "\n",
       "    .dataframe thead th {\n",
       "        text-align: right;\n",
       "    }\n",
       "</style>\n",
       "<table border=\"1\" class=\"dataframe\">\n",
       "  <thead>\n",
       "    <tr style=\"text-align: right;\">\n",
       "      <th></th>\n",
       "      <th>0</th>\n",
       "      <th>1</th>\n",
       "      <th>2</th>\n",
       "      <th>3</th>\n",
       "    </tr>\n",
       "  </thead>\n",
       "  <tbody>\n",
       "    <tr>\n",
       "      <th>0</th>\n",
       "      <td>B</td>\n",
       "      <td>D</td>\n",
       "      <td>A</td>\n",
       "      <td>C</td>\n",
       "    </tr>\n",
       "    <tr>\n",
       "      <th>1</th>\n",
       "      <td>A</td>\n",
       "      <td>B</td>\n",
       "      <td>D</td>\n",
       "      <td>C</td>\n",
       "    </tr>\n",
       "    <tr>\n",
       "      <th>2</th>\n",
       "      <td>B</td>\n",
       "      <td>D</td>\n",
       "      <td>A</td>\n",
       "      <td>C</td>\n",
       "    </tr>\n",
       "    <tr>\n",
       "      <th>3</th>\n",
       "      <td>B</td>\n",
       "      <td>A</td>\n",
       "      <td>C</td>\n",
       "      <td>D</td>\n",
       "    </tr>\n",
       "    <tr>\n",
       "      <th>4</th>\n",
       "      <td>A</td>\n",
       "      <td>B</td>\n",
       "      <td>C</td>\n",
       "      <td>D</td>\n",
       "    </tr>\n",
       "    <tr>\n",
       "      <th>...</th>\n",
       "      <td>...</td>\n",
       "      <td>...</td>\n",
       "      <td>...</td>\n",
       "      <td>...</td>\n",
       "    </tr>\n",
       "    <tr>\n",
       "      <th>95</th>\n",
       "      <td>D</td>\n",
       "      <td>C</td>\n",
       "      <td>A</td>\n",
       "      <td>B</td>\n",
       "    </tr>\n",
       "    <tr>\n",
       "      <th>96</th>\n",
       "      <td>B</td>\n",
       "      <td>A</td>\n",
       "      <td>D</td>\n",
       "      <td>C</td>\n",
       "    </tr>\n",
       "    <tr>\n",
       "      <th>97</th>\n",
       "      <td>A</td>\n",
       "      <td>C</td>\n",
       "      <td>B</td>\n",
       "      <td>D</td>\n",
       "    </tr>\n",
       "    <tr>\n",
       "      <th>98</th>\n",
       "      <td>D</td>\n",
       "      <td>B</td>\n",
       "      <td>A</td>\n",
       "      <td>C</td>\n",
       "    </tr>\n",
       "    <tr>\n",
       "      <th>99</th>\n",
       "      <td>D</td>\n",
       "      <td>C</td>\n",
       "      <td>B</td>\n",
       "      <td>A</td>\n",
       "    </tr>\n",
       "  </tbody>\n",
       "</table>\n",
       "<p>100 rows × 4 columns</p>\n",
       "</div>"
      ],
      "text/plain": [
       "    0  1  2  3\n",
       "0   B  D  A  C\n",
       "1   A  B  D  C\n",
       "2   B  D  A  C\n",
       "3   B  A  C  D\n",
       "4   A  B  C  D\n",
       ".. .. .. .. ..\n",
       "95  D  C  A  B\n",
       "96  B  A  D  C\n",
       "97  A  C  B  D\n",
       "98  D  B  A  C\n",
       "99  D  C  B  A\n",
       "\n",
       "[100 rows x 4 columns]"
      ]
     },
     "execution_count": 18,
     "metadata": {},
     "output_type": "execute_result"
    }
   ],
   "source": [
    "SIM_N = 100\n",
    "groups_sim_df = pd.DataFrame(rdm_perm_sim(RNG, PEOPLE, SIM_N))\n",
    "groups_sim_df"
   ]
  },
  {
   "cell_type": "code",
   "execution_count": 19,
   "id": "51f6c1ee",
   "metadata": {},
   "outputs": [
    {
     "data": {
      "text/plain": [
       "0    ((A, C), (D, B))\n",
       "1    ((A, B), (C, D))\n",
       "2    ((C, B), (A, D))\n",
       "dtype: object"
      ]
     },
     "execution_count": 19,
     "metadata": {},
     "output_type": "execute_result"
    }
   ],
   "source": [
    "make_equal_groups(groups_sim_df, group_n=2)"
   ]
  },
  {
   "cell_type": "markdown",
   "id": "f1dd4dd3",
   "metadata": {},
   "source": [
    "### (Optionnel) Visualisation de la distribution\n",
    "\n",
    "Distribution des sommes des lancers des 4 dés"
   ]
  },
  {
   "cell_type": "code",
   "execution_count": 53,
   "id": "1dfa5c16",
   "metadata": {},
   "outputs": [],
   "source": [
    "# sns.histplot(rolls_sim_df, x=\"sums\", discrete=True, stat=\"probability\")\n",
    "# plt.show()"
   ]
  },
  {
   "cell_type": "markdown",
   "id": "e47ae023",
   "metadata": {},
   "source": [
    "TD 1 Analytique"
   ]
  },
  {
   "cell_type": "code",
   "execution_count": null,
   "id": "ff7aef69",
   "metadata": {},
   "outputs": [
    {
     "name": "stdout",
     "output_type": "stream",
     "text": [
      "19600.0\n"
     ]
    }
   ],
   "source": [
    "N = 50\n",
    "n= 3\n",
    "somme = 1\n",
    "\n",
    "for i in range (n) :\n",
    "    /* question a */somme = somme *(N-i)\n",
    "/* question b */ somme/=fac(n)    \n",
    "print(somme)       "
   ]
  },
  {
   "cell_type": "markdown",
   "id": "aa631c65",
   "metadata": {},
   "source": [
    "$$\\frac{\\displaystyle\\binom{N}{n}}{2!}$$"
   ]
  },
  {
   "cell_type": "markdown",
   "id": "e6c26d99",
   "metadata": {},
   "source": [
    "Solution 1 (analytique) de la 6) a"
   ]
  },
  {
   "cell_type": "code",
   "execution_count": 5,
   "id": "01a8c5f3",
   "metadata": {},
   "outputs": [
    {
     "name": "stdout",
     "output_type": "stream",
     "text": [
      "0.048265460030165915\n"
     ]
    }
   ],
   "source": [
    "import math\n",
    "\n",
    "Nombre_de_cartes = 52\n",
    "cartes_distribués = 2\n",
    "nombre_as = 4\n",
    "nombre_val10 = 16\n",
    "combinaisons = math.comb(Nombre_de_cartes, cartes_distribués)\n",
    "combi_de21 = nombre_as * nombre_val10\n",
    "print(combi_de21 / combinaisons)\n",
    "\n"
   ]
  },
  {
   "cell_type": "markdown",
   "id": "75ed1f83-c6f6-4eae-815a-b218e29a5eb2",
   "metadata": {},
   "source": [
    "---"
   ]
  },
  {
   "cell_type": "markdown",
   "id": "8878190c",
   "metadata": {},
   "source": [
    "Solution 1 (analytique) de la 6) b"
   ]
  },
  {
   "cell_type": "code",
   "execution_count": 1,
   "id": "354c3775",
   "metadata": {},
   "outputs": [
    {
     "name": "stdout",
     "output_type": "stream",
     "text": [
      "0.54\n"
     ]
    }
   ],
   "source": [
    "#Valeur = 15 on cherche la probabilité que la prochaine carte fait perdre le joueur\n",
    "cartes_restantes=50\n",
    "nmbr_prochaines_cartesperd=27\n",
    "tirage=1\n",
    "chance_perte=27/50\n",
    "print(chance_perte)"
   ]
  },
  {
   "cell_type": "markdown",
   "id": "bd84151e",
   "metadata": {},
   "source": [
    "Solution 3 manière probabiliste 6.a)"
   ]
  },
  {
   "cell_type": "code",
   "execution_count": null,
   "id": "ce89f077",
   "metadata": {},
   "outputs": [],
   "source": []
  }
 ],
 "metadata": {
  "kernelspec": {
   "display_name": "Python 3",
   "language": "python",
   "name": "python3"
  },
  "language_info": {
   "codemirror_mode": {
    "name": "ipython",
    "version": 3
   },
   "file_extension": ".py",
   "mimetype": "text/x-python",
   "name": "python",
   "nbconvert_exporter": "python",
   "pygments_lexer": "ipython3",
   "version": "3.13.7"
  }
 },
 "nbformat": 4,
 "nbformat_minor": 5
}
